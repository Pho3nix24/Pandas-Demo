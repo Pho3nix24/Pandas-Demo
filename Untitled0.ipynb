{
  "nbformat": 4,
  "nbformat_minor": 0,
  "metadata": {
    "colab": {
      "name": "Untitled0.ipynb",
      "provenance": [],
      "collapsed_sections": [],
      "authorship_tag": "ABX9TyNjklBWrfVuvdn+JaoCT2vp",
      "include_colab_link": true
    },
    "kernelspec": {
      "name": "python3",
      "display_name": "Python 3"
    },
    "language_info": {
      "name": "python"
    }
  },
  "cells": [
    {
      "cell_type": "markdown",
      "metadata": {
        "id": "view-in-github",
        "colab_type": "text"
      },
      "source": [
        "<a href=\"https://colab.research.google.com/github/Pho3nix24/Pandas-Demo/blob/master/Untitled0.ipynb\" target=\"_parent\"><img src=\"https://colab.research.google.com/assets/colab-badge.svg\" alt=\"Open In Colab\"/></a>"
      ]
    },
    {
      "cell_type": "code",
      "metadata": {
        "colab": {
          "base_uri": "https://localhost:8080/"
        },
        "id": "_OU5luJdUU5v",
        "outputId": "f5865121-ef46-46c3-f863-a6bb9c172ec6"
      },
      "source": [
        "import pandas as pd\n",
        "data = {'Name': pd.Series(['No Time to Die','Eternals','Wonder Woman 1984','Drishyam 2','Minnal Murali']),\n",
        "        'Year': pd.Series([2021,2021,2020,2021,2021])} \n",
        "df = pd.DataFrame(data)\n",
        "print(type(df['Year']))\n",
        "print(df)"
      ],
      "execution_count": null,
      "outputs": [
        {
          "output_type": "stream",
          "name": "stdout",
          "text": [
            "<class 'pandas.core.series.Series'>\n",
            "                Name  Year\n",
            "0     No Time to Die  2021\n",
            "1           Eternals  2021\n",
            "2  Wonder Woman 1984  2020\n",
            "3         Drishyam 2  2021\n",
            "4      Minnal Murali  2021\n"
          ]
        }
      ]
    },
    {
      "cell_type": "code",
      "metadata": {
        "colab": {
          "base_uri": "https://localhost:8080/"
        },
        "id": "unp5WuGjc3Eg",
        "outputId": "86c143bf-7a8d-4b17-debe-3c13a7cd0f88"
      },
      "source": [
        "df['Language'] = pd.Series(['English','English','English','Malayalam','Malayalam'])\n",
        "print(df)"
      ],
      "execution_count": null,
      "outputs": [
        {
          "output_type": "stream",
          "name": "stdout",
          "text": [
            "                Name  Year   Language\n",
            "0     No Time to Die  2021    English\n",
            "1           Eternals  2021    English\n",
            "2  Wonder Woman 1984  2020    English\n",
            "3         Drishyam 2  2021  Malayalam\n",
            "4      Minnal Murali  2021  Malayalam\n"
          ]
        }
      ]
    },
    {
      "cell_type": "code",
      "metadata": {
        "colab": {
          "base_uri": "https://localhost:8080/"
        },
        "id": "bs2-DXwudTcr",
        "outputId": "bde195dd-8af2-4bf8-ad61-f2307415c96b"
      },
      "source": [
        "language_code = df['Language'].map({'English':'ENG','Malayalam':'MAL'})\n",
        "df['Language_Code'] = language_code\n",
        "print(df)"
      ],
      "execution_count": null,
      "outputs": [
        {
          "output_type": "stream",
          "name": "stdout",
          "text": [
            "                Name  Year   Language Language_Code\n",
            "0     No Time to Die  2021    English           ENG\n",
            "1           Eternals  2021    English           ENG\n",
            "2  Wonder Woman 1984  2020    English           ENG\n",
            "3         Drishyam 2  2021  Malayalam           MAL\n",
            "4      Minnal Murali  2021  Malayalam           MAL\n"
          ]
        }
      ]
    },
    {
      "cell_type": "code",
      "metadata": {
        "colab": {
          "base_uri": "https://localhost:8080/"
        },
        "id": "9vYNTVb9gON1",
        "outputId": "6881dacd-9900-48dc-a151-d03794244a3b"
      },
      "source": [
        "rating = pd.Series([7.6,8.8,5.4,8.6,8.2])\n",
        "df['Rating_on_10'] = rating\n",
        "print(df)"
      ],
      "execution_count": null,
      "outputs": [
        {
          "output_type": "stream",
          "name": "stdout",
          "text": [
            "                Name  Year   Language Language_Code  Rating_on_10\n",
            "0     No Time to Die  2021    English           ENG           7.6\n",
            "1           Eternals  2021    English           ENG           8.8\n",
            "2  Wonder Woman 1984  2020    English           ENG           5.4\n",
            "3         Drishyam 2  2021  Malayalam           MAL           8.6\n",
            "4      Minnal Murali  2021  Malayalam           MAL           8.2\n"
          ]
        }
      ]
    },
    {
      "cell_type": "code",
      "metadata": {
        "colab": {
          "base_uri": "https://localhost:8080/"
        },
        "id": "kt_NJ510gypu",
        "outputId": "5d43db93-4c34-4a6d-9b88-205f8acc2c67"
      },
      "source": [
        "def convert_rating(x):\n",
        "  return ((x/10)*5)\n",
        "rating_on_5 = rating.apply(convert_rating)\n",
        "df['Rating_on_5'] = rating_on_5\n",
        "print(df)"
      ],
      "execution_count": null,
      "outputs": [
        {
          "output_type": "stream",
          "name": "stdout",
          "text": [
            "                Name  Year   Language Language_Code  Rating_on_10  Rating_on_5\n",
            "0     No Time to Die  2021    English           ENG           7.6          3.8\n",
            "1           Eternals  2021    English           ENG           8.8          4.4\n",
            "2  Wonder Woman 1984  2020    English           ENG           5.4          2.7\n",
            "3         Drishyam 2  2021  Malayalam           MAL           8.6          4.3\n",
            "4      Minnal Murali  2021  Malayalam           MAL           8.2          4.1\n"
          ]
        }
      ]
    },
    {
      "cell_type": "code",
      "metadata": {
        "colab": {
          "base_uri": "https://localhost:8080/"
        },
        "id": "7V8oqXj1igLq",
        "outputId": "bfed17bb-ce6f-4567-f3c2-eb1d2ef8990d"
      },
      "source": [
        "temp1 = df[df['Language']=='English']\n",
        "temp2 = temp1[temp1['Rating_on_10']>6]\n",
        "final = temp2[temp2['Rating_on_5']>4]\n",
        "print(final)"
      ],
      "execution_count": null,
      "outputs": [
        {
          "output_type": "stream",
          "name": "stdout",
          "text": [
            "       Name  Year Language Language_Code  Rating_on_10  Rating_on_5\n",
            "1  Eternals  2021  English           ENG           8.8          4.4\n"
          ]
        }
      ]
    },
    {
      "cell_type": "code",
      "metadata": {
        "id": "OMlY6jV-zABE"
      },
      "source": [
        "import matplotlib.pyplot as plt\n",
        "import numpy as np\n",
        "%matplotlib inline"
      ],
      "execution_count": null,
      "outputs": []
    },
    {
      "cell_type": "code",
      "metadata": {
        "colab": {
          "base_uri": "https://localhost:8080/",
          "height": 282
        },
        "id": "E8vaqFuFzJld",
        "outputId": "f0637e85-8bf5-4752-f875-30d58b77cd5b"
      },
      "source": [
        "x = [1,2,3,4,5]\n",
        "y1 = [1,4,9,16,25]\n",
        "plt.style.use('ggplot')\n",
        "plt.bar(x,y1,width=0.5,label='Square')\n",
        "plt.legend()"
      ],
      "execution_count": null,
      "outputs": [
        {
          "output_type": "execute_result",
          "data": {
            "text/plain": [
              "<matplotlib.legend.Legend at 0x7fae345d8650>"
            ]
          },
          "metadata": {},
          "execution_count": 25
        },
        {
          "output_type": "display_data",
          "data": {
            "image/png": "[encoded data removed]",
            "text/plain": [
              "<Figure size 432x288 with 1 Axes>"
            ]
          },
          "metadata": {}
        }
      ]
    },
    {
      "cell_type": "code",
      "metadata": {
        "colab": {
          "base_uri": "https://localhost:8080/",
          "height": 453
        },
        "id": "KpoSCexp2rbo",
        "outputId": "2b6c0f64-a72a-47db-c9f3-56730ac43f2f"
      },
      "source": [
        "x1 = [15,15,15,15,30,10]\n",
        "labels = ['A','B','C','D','E','F']\n",
        "plt.pie(x1,labels=labels,wedgeprops={'edgecolor':'black'},explode=[0.1,0.1,0.1,0.1,0.1,0.1])"
      ],
      "execution_count": null,
      "outputs": [
        {
          "output_type": "execute_result",
          "data": {
            "text/plain": [
              "([<matplotlib.patches.Wedge at 0x7fae33509950>,\n",
              "  <matplotlib.patches.Wedge at 0x7fae33509c50>,\n",
              "  <matplotlib.patches.Wedge at 0x7fae33514310>,\n",
              "  <matplotlib.patches.Wedge at 0x7fae335143d0>,\n",
              "  <matplotlib.patches.Wedge at 0x7fae3349e110>,\n",
              "  <matplotlib.patches.Wedge at 0x7fae3349e790>],\n",
              " [Text(1.0692078188246834, 0.5447886197087484, 'A'),\n",
              "  Text(0.18772129146695626, 1.1852260192596087, 'B'),\n",
              "  Text(-0.848528216868791, 0.8485280579789157, 'C'),\n",
              "  Text(-1.1852259841081163, -0.18772151340469004, 'D'),\n",
              "  Text(2.2470421661307788e-07, -1.199999999999979, 'E'),\n",
              "  Text(1.1412679046149958, -0.37082013145957526, 'F')])"
            ]
          },
          "metadata": {},
          "execution_count": 36
        },
        {
          "output_type": "display_data",
          "data": {
            "image/png": "[encoded data removed]",
            "text/plain": [
              "<Figure size 432x288 with 1 Axes>"
            ]
          },
          "metadata": {}
        }
      ]
    }
  ]
}